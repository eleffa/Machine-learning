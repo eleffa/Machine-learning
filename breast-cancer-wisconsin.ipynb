{
 "cells": [
  {
   "cell_type": "code",
   "execution_count": 1,
   "id": "3b9618ee",
   "metadata": {
    "_cell_guid": "b1076dfc-b9ad-4769-8c92-a6c4dae69d19",
    "_uuid": "8f2839f25d086af736a60e9eeb907d3b93b6e0e5",
    "execution": {
     "iopub.execute_input": "2025-02-16T10:35:31.080286Z",
     "iopub.status.busy": "2025-02-16T10:35:31.079911Z",
     "iopub.status.idle": "2025-02-16T10:35:32.019190Z",
     "shell.execute_reply": "2025-02-16T10:35:32.017563Z"
    },
    "papermill": {
     "duration": 0.947421,
     "end_time": "2025-02-16T10:35:32.021050",
     "exception": false,
     "start_time": "2025-02-16T10:35:31.073629",
     "status": "completed"
    },
    "tags": []
   },
   "outputs": [
    {
     "name": "stdout",
     "output_type": "stream",
     "text": [
      "/kaggle/input/breast-cancer-wisconsin-data/breast-cancer-wisconsin.data\n"
     ]
    }
   ],
   "source": [
    "# This Python 3 environment comes with many helpful analytics libraries installed\n",
    "# It is defined by the kaggle/python Docker image: https://github.com/kaggle/docker-python\n",
    "# For example, here's several helpful packages to load\n",
    "\n",
    "import numpy as np # linear algebra\n",
    "import pandas as pd # data processing, CSV file I/O (e.g. pd.read_csv)\n",
    "\n",
    "# Input data files are available in the read-only \"../input/\" directory\n",
    "# For example, running this (by clicking run or pressing Shift+Enter) will list all files under the input directory\n",
    "\n",
    "import os\n",
    "for dirname, _, filenames in os.walk('/kaggle/input'):\n",
    "    for filename in filenames:\n",
    "        print(os.path.join(dirname, filename))\n",
    "\n",
    "# You can write up to 20GB to the current directory (/kaggle/working/) that gets preserved as output when you create a version using \"Save & Run All\" \n",
    "# You can also write temporary files to /kaggle/temp/, but they won't be saved outside of the current session"
   ]
  },
  {
   "cell_type": "code",
   "execution_count": 2,
   "id": "bfdfee17",
   "metadata": {
    "execution": {
     "iopub.execute_input": "2025-02-16T10:35:32.030933Z",
     "iopub.status.busy": "2025-02-16T10:35:32.030441Z",
     "iopub.status.idle": "2025-02-16T10:35:32.034611Z",
     "shell.execute_reply": "2025-02-16T10:35:32.033792Z"
    },
    "papermill": {
     "duration": 0.010661,
     "end_time": "2025-02-16T10:35:32.036114",
     "exception": false,
     "start_time": "2025-02-16T10:35:32.025453",
     "status": "completed"
    },
    "tags": []
   },
   "outputs": [],
   "source": [
    "import matplotlib.pyplot as plt"
   ]
  },
  {
   "cell_type": "code",
   "execution_count": 3,
   "id": "ca5ecd2f",
   "metadata": {
    "execution": {
     "iopub.execute_input": "2025-02-16T10:35:32.045347Z",
     "iopub.status.busy": "2025-02-16T10:35:32.045007Z",
     "iopub.status.idle": "2025-02-16T10:35:32.090912Z",
     "shell.execute_reply": "2025-02-16T10:35:32.089750Z"
    },
    "papermill": {
     "duration": 0.052539,
     "end_time": "2025-02-16T10:35:32.092757",
     "exception": false,
     "start_time": "2025-02-16T10:35:32.040218",
     "status": "completed"
    },
    "tags": []
   },
   "outputs": [
    {
     "data": {
      "text/html": [
       "<div>\n",
       "<style scoped>\n",
       "    .dataframe tbody tr th:only-of-type {\n",
       "        vertical-align: middle;\n",
       "    }\n",
       "\n",
       "    .dataframe tbody tr th {\n",
       "        vertical-align: top;\n",
       "    }\n",
       "\n",
       "    .dataframe thead th {\n",
       "        text-align: right;\n",
       "    }\n",
       "</style>\n",
       "<table border=\"1\" class=\"dataframe\">\n",
       "  <thead>\n",
       "    <tr style=\"text-align: right;\">\n",
       "      <th></th>\n",
       "      <th>id number</th>\n",
       "      <th>clump_thickness</th>\n",
       "      <th>uniformity_of_cell_size</th>\n",
       "      <th>uniformity_of_cell_shape</th>\n",
       "      <th>marginal_adhesion</th>\n",
       "      <th>single_epithelial_cell_size</th>\n",
       "      <th>bare_nuclei</th>\n",
       "      <th>bland_chromatin</th>\n",
       "      <th>normal_nucleoli</th>\n",
       "      <th>mitoses</th>\n",
       "      <th>class</th>\n",
       "    </tr>\n",
       "  </thead>\n",
       "  <tbody>\n",
       "    <tr>\n",
       "      <th>0</th>\n",
       "      <td>1000025</td>\n",
       "      <td>5</td>\n",
       "      <td>1</td>\n",
       "      <td>1</td>\n",
       "      <td>1</td>\n",
       "      <td>2</td>\n",
       "      <td>1</td>\n",
       "      <td>3</td>\n",
       "      <td>1</td>\n",
       "      <td>1</td>\n",
       "      <td>2</td>\n",
       "    </tr>\n",
       "    <tr>\n",
       "      <th>1</th>\n",
       "      <td>1002945</td>\n",
       "      <td>5</td>\n",
       "      <td>4</td>\n",
       "      <td>4</td>\n",
       "      <td>5</td>\n",
       "      <td>7</td>\n",
       "      <td>10</td>\n",
       "      <td>3</td>\n",
       "      <td>2</td>\n",
       "      <td>1</td>\n",
       "      <td>2</td>\n",
       "    </tr>\n",
       "    <tr>\n",
       "      <th>2</th>\n",
       "      <td>1015425</td>\n",
       "      <td>3</td>\n",
       "      <td>1</td>\n",
       "      <td>1</td>\n",
       "      <td>1</td>\n",
       "      <td>2</td>\n",
       "      <td>2</td>\n",
       "      <td>3</td>\n",
       "      <td>1</td>\n",
       "      <td>1</td>\n",
       "      <td>2</td>\n",
       "    </tr>\n",
       "    <tr>\n",
       "      <th>3</th>\n",
       "      <td>1016277</td>\n",
       "      <td>6</td>\n",
       "      <td>8</td>\n",
       "      <td>8</td>\n",
       "      <td>1</td>\n",
       "      <td>3</td>\n",
       "      <td>4</td>\n",
       "      <td>3</td>\n",
       "      <td>7</td>\n",
       "      <td>1</td>\n",
       "      <td>2</td>\n",
       "    </tr>\n",
       "    <tr>\n",
       "      <th>4</th>\n",
       "      <td>1017023</td>\n",
       "      <td>4</td>\n",
       "      <td>1</td>\n",
       "      <td>1</td>\n",
       "      <td>3</td>\n",
       "      <td>2</td>\n",
       "      <td>1</td>\n",
       "      <td>3</td>\n",
       "      <td>1</td>\n",
       "      <td>1</td>\n",
       "      <td>2</td>\n",
       "    </tr>\n",
       "    <tr>\n",
       "      <th>...</th>\n",
       "      <td>...</td>\n",
       "      <td>...</td>\n",
       "      <td>...</td>\n",
       "      <td>...</td>\n",
       "      <td>...</td>\n",
       "      <td>...</td>\n",
       "      <td>...</td>\n",
       "      <td>...</td>\n",
       "      <td>...</td>\n",
       "      <td>...</td>\n",
       "      <td>...</td>\n",
       "    </tr>\n",
       "    <tr>\n",
       "      <th>694</th>\n",
       "      <td>776715</td>\n",
       "      <td>3</td>\n",
       "      <td>1</td>\n",
       "      <td>1</td>\n",
       "      <td>1</td>\n",
       "      <td>3</td>\n",
       "      <td>2</td>\n",
       "      <td>1</td>\n",
       "      <td>1</td>\n",
       "      <td>1</td>\n",
       "      <td>2</td>\n",
       "    </tr>\n",
       "    <tr>\n",
       "      <th>695</th>\n",
       "      <td>841769</td>\n",
       "      <td>2</td>\n",
       "      <td>1</td>\n",
       "      <td>1</td>\n",
       "      <td>1</td>\n",
       "      <td>2</td>\n",
       "      <td>1</td>\n",
       "      <td>1</td>\n",
       "      <td>1</td>\n",
       "      <td>1</td>\n",
       "      <td>2</td>\n",
       "    </tr>\n",
       "    <tr>\n",
       "      <th>696</th>\n",
       "      <td>888820</td>\n",
       "      <td>5</td>\n",
       "      <td>10</td>\n",
       "      <td>10</td>\n",
       "      <td>3</td>\n",
       "      <td>7</td>\n",
       "      <td>3</td>\n",
       "      <td>8</td>\n",
       "      <td>10</td>\n",
       "      <td>2</td>\n",
       "      <td>4</td>\n",
       "    </tr>\n",
       "    <tr>\n",
       "      <th>697</th>\n",
       "      <td>897471</td>\n",
       "      <td>4</td>\n",
       "      <td>8</td>\n",
       "      <td>6</td>\n",
       "      <td>4</td>\n",
       "      <td>3</td>\n",
       "      <td>4</td>\n",
       "      <td>10</td>\n",
       "      <td>6</td>\n",
       "      <td>1</td>\n",
       "      <td>4</td>\n",
       "    </tr>\n",
       "    <tr>\n",
       "      <th>698</th>\n",
       "      <td>897471</td>\n",
       "      <td>4</td>\n",
       "      <td>8</td>\n",
       "      <td>8</td>\n",
       "      <td>5</td>\n",
       "      <td>4</td>\n",
       "      <td>5</td>\n",
       "      <td>10</td>\n",
       "      <td>4</td>\n",
       "      <td>1</td>\n",
       "      <td>4</td>\n",
       "    </tr>\n",
       "  </tbody>\n",
       "</table>\n",
       "<p>699 rows × 11 columns</p>\n",
       "</div>"
      ],
      "text/plain": [
       "     id number  clump_thickness  uniformity_of_cell_size  \\\n",
       "0      1000025                5                        1   \n",
       "1      1002945                5                        4   \n",
       "2      1015425                3                        1   \n",
       "3      1016277                6                        8   \n",
       "4      1017023                4                        1   \n",
       "..         ...              ...                      ...   \n",
       "694     776715                3                        1   \n",
       "695     841769                2                        1   \n",
       "696     888820                5                       10   \n",
       "697     897471                4                        8   \n",
       "698     897471                4                        8   \n",
       "\n",
       "     uniformity_of_cell_shape  marginal_adhesion  single_epithelial_cell_size  \\\n",
       "0                           1                  1                            2   \n",
       "1                           4                  5                            7   \n",
       "2                           1                  1                            2   \n",
       "3                           8                  1                            3   \n",
       "4                           1                  3                            2   \n",
       "..                        ...                ...                          ...   \n",
       "694                         1                  1                            3   \n",
       "695                         1                  1                            2   \n",
       "696                        10                  3                            7   \n",
       "697                         6                  4                            3   \n",
       "698                         8                  5                            4   \n",
       "\n",
       "    bare_nuclei  bland_chromatin  normal_nucleoli  mitoses  class  \n",
       "0             1                3                1        1      2  \n",
       "1            10                3                2        1      2  \n",
       "2             2                3                1        1      2  \n",
       "3             4                3                7        1      2  \n",
       "4             1                3                1        1      2  \n",
       "..          ...              ...              ...      ...    ...  \n",
       "694           2                1                1        1      2  \n",
       "695           1                1                1        1      2  \n",
       "696           3                8               10        2      4  \n",
       "697           4               10                6        1      4  \n",
       "698           5               10                4        1      4  \n",
       "\n",
       "[699 rows x 11 columns]"
      ]
     },
     "execution_count": 3,
     "metadata": {},
     "output_type": "execute_result"
    }
   ],
   "source": [
    "col_name = [\"id number\", \"clump_thickness\", \"uniformity_of_cell_size\", \"uniformity_of_cell_shape\",  \"marginal_adhesion\", \"single_epithelial_cell_size\",  \"bare_nuclei\", \"bland_chromatin\", \"normal_nucleoli\",  \"mitoses\", \"class\"]\n",
    "\n",
    "df = pd.read_csv(\"/kaggle/input/breast-cancer-wisconsin-data/breast-cancer-wisconsin.data\", names = col_name)\n",
    "df"
   ]
  },
  {
   "cell_type": "markdown",
   "id": "b4fdbea6",
   "metadata": {
    "papermill": {
     "duration": 0.003994,
     "end_time": "2025-02-16T10:35:32.101171",
     "exception": false,
     "start_time": "2025-02-16T10:35:32.097177",
     "status": "completed"
    },
    "tags": []
   },
   "source": [
    "# Missing values"
   ]
  },
  {
   "cell_type": "code",
   "execution_count": 4,
   "id": "d4216a6f",
   "metadata": {
    "execution": {
     "iopub.execute_input": "2025-02-16T10:35:32.110860Z",
     "iopub.status.busy": "2025-02-16T10:35:32.110495Z",
     "iopub.status.idle": "2025-02-16T10:35:32.116326Z",
     "shell.execute_reply": "2025-02-16T10:35:32.115358Z"
    },
    "papermill": {
     "duration": 0.012698,
     "end_time": "2025-02-16T10:35:32.118082",
     "exception": false,
     "start_time": "2025-02-16T10:35:32.105384",
     "status": "completed"
    },
    "tags": []
   },
   "outputs": [],
   "source": [
    "def missing_value(df):\n",
    "    df_col = pd.DataFrame()\n",
    "    df_col[\"nom_col\"] = df.columns.tolist()\n",
    "    df_col[\"type_col\"] = df.dtypes.tolist()\n",
    "    nb_missing_values = df.isnull().sum()\n",
    "    list_no_val= []\n",
    "    list_val = []\n",
    "    percent_val = []\n",
    "    unique_val = []\n",
    "    for col in df:\n",
    "        unique_val.append(len(df[col].unique()))\n",
    "    \n",
    "    for i in nb_missing_values:\n",
    "        list_no_val.append(i)\n",
    "        list_val.append(len(df)-i)\n",
    "        percent_val.append((i / df.shape[0])*100)\n",
    "    \n",
    "    df_col[\"unique_val\"] = unique_val\n",
    "    df_col[\"nb_missing_val\"] = list_no_val\n",
    "    df_col[\"per_missing_val\"] = percent_val\n",
    "    df_col[\"nb_val\"] = list_val\n",
    "    return df_col\n",
    "\n"
   ]
  },
  {
   "cell_type": "code",
   "execution_count": 5,
   "id": "2008d3fc",
   "metadata": {
    "execution": {
     "iopub.execute_input": "2025-02-16T10:35:32.128159Z",
     "iopub.status.busy": "2025-02-16T10:35:32.127740Z",
     "iopub.status.idle": "2025-02-16T10:35:32.154063Z",
     "shell.execute_reply": "2025-02-16T10:35:32.152797Z"
    },
    "papermill": {
     "duration": 0.033348,
     "end_time": "2025-02-16T10:35:32.155893",
     "exception": false,
     "start_time": "2025-02-16T10:35:32.122545",
     "status": "completed"
    },
    "tags": []
   },
   "outputs": [
    {
     "data": {
      "text/html": [
       "<div>\n",
       "<style scoped>\n",
       "    .dataframe tbody tr th:only-of-type {\n",
       "        vertical-align: middle;\n",
       "    }\n",
       "\n",
       "    .dataframe tbody tr th {\n",
       "        vertical-align: top;\n",
       "    }\n",
       "\n",
       "    .dataframe thead th {\n",
       "        text-align: right;\n",
       "    }\n",
       "</style>\n",
       "<table border=\"1\" class=\"dataframe\">\n",
       "  <thead>\n",
       "    <tr style=\"text-align: right;\">\n",
       "      <th></th>\n",
       "      <th>nom_col</th>\n",
       "      <th>type_col</th>\n",
       "      <th>unique_val</th>\n",
       "      <th>nb_missing_val</th>\n",
       "      <th>per_missing_val</th>\n",
       "      <th>nb_val</th>\n",
       "    </tr>\n",
       "  </thead>\n",
       "  <tbody>\n",
       "    <tr>\n",
       "      <th>0</th>\n",
       "      <td>id number</td>\n",
       "      <td>int64</td>\n",
       "      <td>645</td>\n",
       "      <td>0</td>\n",
       "      <td>0.0</td>\n",
       "      <td>699</td>\n",
       "    </tr>\n",
       "    <tr>\n",
       "      <th>1</th>\n",
       "      <td>clump_thickness</td>\n",
       "      <td>int64</td>\n",
       "      <td>10</td>\n",
       "      <td>0</td>\n",
       "      <td>0.0</td>\n",
       "      <td>699</td>\n",
       "    </tr>\n",
       "    <tr>\n",
       "      <th>2</th>\n",
       "      <td>uniformity_of_cell_size</td>\n",
       "      <td>int64</td>\n",
       "      <td>10</td>\n",
       "      <td>0</td>\n",
       "      <td>0.0</td>\n",
       "      <td>699</td>\n",
       "    </tr>\n",
       "    <tr>\n",
       "      <th>3</th>\n",
       "      <td>uniformity_of_cell_shape</td>\n",
       "      <td>int64</td>\n",
       "      <td>10</td>\n",
       "      <td>0</td>\n",
       "      <td>0.0</td>\n",
       "      <td>699</td>\n",
       "    </tr>\n",
       "    <tr>\n",
       "      <th>4</th>\n",
       "      <td>marginal_adhesion</td>\n",
       "      <td>int64</td>\n",
       "      <td>10</td>\n",
       "      <td>0</td>\n",
       "      <td>0.0</td>\n",
       "      <td>699</td>\n",
       "    </tr>\n",
       "    <tr>\n",
       "      <th>5</th>\n",
       "      <td>single_epithelial_cell_size</td>\n",
       "      <td>int64</td>\n",
       "      <td>10</td>\n",
       "      <td>0</td>\n",
       "      <td>0.0</td>\n",
       "      <td>699</td>\n",
       "    </tr>\n",
       "    <tr>\n",
       "      <th>6</th>\n",
       "      <td>bare_nuclei</td>\n",
       "      <td>object</td>\n",
       "      <td>11</td>\n",
       "      <td>0</td>\n",
       "      <td>0.0</td>\n",
       "      <td>699</td>\n",
       "    </tr>\n",
       "    <tr>\n",
       "      <th>7</th>\n",
       "      <td>bland_chromatin</td>\n",
       "      <td>int64</td>\n",
       "      <td>10</td>\n",
       "      <td>0</td>\n",
       "      <td>0.0</td>\n",
       "      <td>699</td>\n",
       "    </tr>\n",
       "    <tr>\n",
       "      <th>8</th>\n",
       "      <td>normal_nucleoli</td>\n",
       "      <td>int64</td>\n",
       "      <td>10</td>\n",
       "      <td>0</td>\n",
       "      <td>0.0</td>\n",
       "      <td>699</td>\n",
       "    </tr>\n",
       "    <tr>\n",
       "      <th>9</th>\n",
       "      <td>mitoses</td>\n",
       "      <td>int64</td>\n",
       "      <td>9</td>\n",
       "      <td>0</td>\n",
       "      <td>0.0</td>\n",
       "      <td>699</td>\n",
       "    </tr>\n",
       "    <tr>\n",
       "      <th>10</th>\n",
       "      <td>class</td>\n",
       "      <td>int64</td>\n",
       "      <td>2</td>\n",
       "      <td>0</td>\n",
       "      <td>0.0</td>\n",
       "      <td>699</td>\n",
       "    </tr>\n",
       "  </tbody>\n",
       "</table>\n",
       "</div>"
      ],
      "text/plain": [
       "                        nom_col type_col  unique_val  nb_missing_val  \\\n",
       "0                     id number    int64         645               0   \n",
       "1               clump_thickness    int64          10               0   \n",
       "2       uniformity_of_cell_size    int64          10               0   \n",
       "3      uniformity_of_cell_shape    int64          10               0   \n",
       "4             marginal_adhesion    int64          10               0   \n",
       "5   single_epithelial_cell_size    int64          10               0   \n",
       "6                   bare_nuclei   object          11               0   \n",
       "7               bland_chromatin    int64          10               0   \n",
       "8               normal_nucleoli    int64          10               0   \n",
       "9                       mitoses    int64           9               0   \n",
       "10                        class    int64           2               0   \n",
       "\n",
       "    per_missing_val  nb_val  \n",
       "0               0.0     699  \n",
       "1               0.0     699  \n",
       "2               0.0     699  \n",
       "3               0.0     699  \n",
       "4               0.0     699  \n",
       "5               0.0     699  \n",
       "6               0.0     699  \n",
       "7               0.0     699  \n",
       "8               0.0     699  \n",
       "9               0.0     699  \n",
       "10              0.0     699  "
      ]
     },
     "execution_count": 5,
     "metadata": {},
     "output_type": "execute_result"
    }
   ],
   "source": [
    "#calculating the number of missing values for each column\n",
    "df_col=missing_value(df)\n",
    "df_col"
   ]
  },
  {
   "cell_type": "markdown",
   "id": "09c7e26d",
   "metadata": {
    "papermill": {
     "duration": 0.004365,
     "end_time": "2025-02-16T10:35:32.165070",
     "exception": false,
     "start_time": "2025-02-16T10:35:32.160705",
     "status": "completed"
    },
    "tags": []
   },
   "source": [
    "There are no officially missing values, but the “Bare_Nuclei” column is of object type, which means that it probably contains non-numerical values (perhaps “?” indicating missing values)."
   ]
  },
  {
   "cell_type": "code",
   "execution_count": 6,
   "id": "4e1f2674",
   "metadata": {
    "execution": {
     "iopub.execute_input": "2025-02-16T10:35:32.176135Z",
     "iopub.status.busy": "2025-02-16T10:35:32.175741Z",
     "iopub.status.idle": "2025-02-16T10:35:32.180987Z",
     "shell.execute_reply": "2025-02-16T10:35:32.179882Z"
    },
    "papermill": {
     "duration": 0.012433,
     "end_time": "2025-02-16T10:35:32.182612",
     "exception": false,
     "start_time": "2025-02-16T10:35:32.170179",
     "status": "completed"
    },
    "tags": []
   },
   "outputs": [],
   "source": [
    "df[\"bare_nuclei\"] = pd.to_numeric(df[\"bare_nuclei\"], errors='coerce')"
   ]
  },
  {
   "cell_type": "code",
   "execution_count": 7,
   "id": "fbc1a1d1",
   "metadata": {
    "execution": {
     "iopub.execute_input": "2025-02-16T10:35:32.192982Z",
     "iopub.status.busy": "2025-02-16T10:35:32.192620Z",
     "iopub.status.idle": "2025-02-16T10:35:32.209173Z",
     "shell.execute_reply": "2025-02-16T10:35:32.208034Z"
    },
    "papermill": {
     "duration": 0.023572,
     "end_time": "2025-02-16T10:35:32.210879",
     "exception": false,
     "start_time": "2025-02-16T10:35:32.187307",
     "status": "completed"
    },
    "tags": []
   },
   "outputs": [
    {
     "data": {
      "text/html": [
       "<div>\n",
       "<style scoped>\n",
       "    .dataframe tbody tr th:only-of-type {\n",
       "        vertical-align: middle;\n",
       "    }\n",
       "\n",
       "    .dataframe tbody tr th {\n",
       "        vertical-align: top;\n",
       "    }\n",
       "\n",
       "    .dataframe thead th {\n",
       "        text-align: right;\n",
       "    }\n",
       "</style>\n",
       "<table border=\"1\" class=\"dataframe\">\n",
       "  <thead>\n",
       "    <tr style=\"text-align: right;\">\n",
       "      <th></th>\n",
       "      <th>nom_col</th>\n",
       "      <th>type_col</th>\n",
       "      <th>unique_val</th>\n",
       "      <th>nb_missing_val</th>\n",
       "      <th>per_missing_val</th>\n",
       "      <th>nb_val</th>\n",
       "    </tr>\n",
       "  </thead>\n",
       "  <tbody>\n",
       "    <tr>\n",
       "      <th>0</th>\n",
       "      <td>id number</td>\n",
       "      <td>int64</td>\n",
       "      <td>645</td>\n",
       "      <td>0</td>\n",
       "      <td>0.000000</td>\n",
       "      <td>699</td>\n",
       "    </tr>\n",
       "    <tr>\n",
       "      <th>1</th>\n",
       "      <td>clump_thickness</td>\n",
       "      <td>int64</td>\n",
       "      <td>10</td>\n",
       "      <td>0</td>\n",
       "      <td>0.000000</td>\n",
       "      <td>699</td>\n",
       "    </tr>\n",
       "    <tr>\n",
       "      <th>2</th>\n",
       "      <td>uniformity_of_cell_size</td>\n",
       "      <td>int64</td>\n",
       "      <td>10</td>\n",
       "      <td>0</td>\n",
       "      <td>0.000000</td>\n",
       "      <td>699</td>\n",
       "    </tr>\n",
       "    <tr>\n",
       "      <th>3</th>\n",
       "      <td>uniformity_of_cell_shape</td>\n",
       "      <td>int64</td>\n",
       "      <td>10</td>\n",
       "      <td>0</td>\n",
       "      <td>0.000000</td>\n",
       "      <td>699</td>\n",
       "    </tr>\n",
       "    <tr>\n",
       "      <th>4</th>\n",
       "      <td>marginal_adhesion</td>\n",
       "      <td>int64</td>\n",
       "      <td>10</td>\n",
       "      <td>0</td>\n",
       "      <td>0.000000</td>\n",
       "      <td>699</td>\n",
       "    </tr>\n",
       "    <tr>\n",
       "      <th>5</th>\n",
       "      <td>single_epithelial_cell_size</td>\n",
       "      <td>int64</td>\n",
       "      <td>10</td>\n",
       "      <td>0</td>\n",
       "      <td>0.000000</td>\n",
       "      <td>699</td>\n",
       "    </tr>\n",
       "    <tr>\n",
       "      <th>6</th>\n",
       "      <td>bare_nuclei</td>\n",
       "      <td>float64</td>\n",
       "      <td>11</td>\n",
       "      <td>16</td>\n",
       "      <td>2.288984</td>\n",
       "      <td>683</td>\n",
       "    </tr>\n",
       "    <tr>\n",
       "      <th>7</th>\n",
       "      <td>bland_chromatin</td>\n",
       "      <td>int64</td>\n",
       "      <td>10</td>\n",
       "      <td>0</td>\n",
       "      <td>0.000000</td>\n",
       "      <td>699</td>\n",
       "    </tr>\n",
       "    <tr>\n",
       "      <th>8</th>\n",
       "      <td>normal_nucleoli</td>\n",
       "      <td>int64</td>\n",
       "      <td>10</td>\n",
       "      <td>0</td>\n",
       "      <td>0.000000</td>\n",
       "      <td>699</td>\n",
       "    </tr>\n",
       "    <tr>\n",
       "      <th>9</th>\n",
       "      <td>mitoses</td>\n",
       "      <td>int64</td>\n",
       "      <td>9</td>\n",
       "      <td>0</td>\n",
       "      <td>0.000000</td>\n",
       "      <td>699</td>\n",
       "    </tr>\n",
       "    <tr>\n",
       "      <th>10</th>\n",
       "      <td>class</td>\n",
       "      <td>int64</td>\n",
       "      <td>2</td>\n",
       "      <td>0</td>\n",
       "      <td>0.000000</td>\n",
       "      <td>699</td>\n",
       "    </tr>\n",
       "  </tbody>\n",
       "</table>\n",
       "</div>"
      ],
      "text/plain": [
       "                        nom_col type_col  unique_val  nb_missing_val  \\\n",
       "0                     id number    int64         645               0   \n",
       "1               clump_thickness    int64          10               0   \n",
       "2       uniformity_of_cell_size    int64          10               0   \n",
       "3      uniformity_of_cell_shape    int64          10               0   \n",
       "4             marginal_adhesion    int64          10               0   \n",
       "5   single_epithelial_cell_size    int64          10               0   \n",
       "6                   bare_nuclei  float64          11              16   \n",
       "7               bland_chromatin    int64          10               0   \n",
       "8               normal_nucleoli    int64          10               0   \n",
       "9                       mitoses    int64           9               0   \n",
       "10                        class    int64           2               0   \n",
       "\n",
       "    per_missing_val  nb_val  \n",
       "0          0.000000     699  \n",
       "1          0.000000     699  \n",
       "2          0.000000     699  \n",
       "3          0.000000     699  \n",
       "4          0.000000     699  \n",
       "5          0.000000     699  \n",
       "6          2.288984     683  \n",
       "7          0.000000     699  \n",
       "8          0.000000     699  \n",
       "9          0.000000     699  \n",
       "10         0.000000     699  "
      ]
     },
     "execution_count": 7,
     "metadata": {},
     "output_type": "execute_result"
    }
   ],
   "source": [
    "#calculating the number of missing values for each column\n",
    "df_col=missing_value(df)\n",
    "df_col"
   ]
  },
  {
   "cell_type": "code",
   "execution_count": 8,
   "id": "bf5ec6e9",
   "metadata": {
    "execution": {
     "iopub.execute_input": "2025-02-16T10:35:32.221742Z",
     "iopub.status.busy": "2025-02-16T10:35:32.221427Z",
     "iopub.status.idle": "2025-02-16T10:35:32.227306Z",
     "shell.execute_reply": "2025-02-16T10:35:32.226253Z"
    },
    "papermill": {
     "duration": 0.014043,
     "end_time": "2025-02-16T10:35:32.229732",
     "exception": false,
     "start_time": "2025-02-16T10:35:32.215689",
     "status": "completed"
    },
    "tags": []
   },
   "outputs": [
    {
     "name": "stdout",
     "output_type": "stream",
     "text": [
      "0\n"
     ]
    },
    {
     "name": "stderr",
     "output_type": "stream",
     "text": [
      "<ipython-input-8-bdf8f82107f4>:1: FutureWarning: A value is trying to be set on a copy of a DataFrame or Series through chained assignment using an inplace method.\n",
      "The behavior will change in pandas 3.0. This inplace method will never work because the intermediate object on which we are setting values always behaves as a copy.\n",
      "\n",
      "For example, when doing 'df[col].method(value, inplace=True)', try using 'df.method({col: value}, inplace=True)' or df[col] = df[col].method(value) instead, to perform the operation inplace on the original object.\n",
      "\n",
      "\n",
      "  df[\"bare_nuclei\"].fillna(df[\"bare_nuclei\"].median(), inplace=True)\n"
     ]
    }
   ],
   "source": [
    "df[\"bare_nuclei\"].fillna(df[\"bare_nuclei\"].median(), inplace=True)\n",
    "\n",
    "# Check if any values are missing\n",
    "print(df[\"bare_nuclei\"].isnull().sum())"
   ]
  },
  {
   "cell_type": "markdown",
   "id": "1fdfa521",
   "metadata": {
    "papermill": {
     "duration": 0.004582,
     "end_time": "2025-02-16T10:35:32.239545",
     "exception": false,
     "start_time": "2025-02-16T10:35:32.234963",
     "status": "completed"
    },
    "tags": []
   },
   "source": [
    "# Normalize data\n",
    "\n",
    "Target class: The “Class” variable has two values:\n",
    "+ 2 = Benign\n",
    "+ 4 = Smart\n",
    "  \n",
    "We can convert them into 0 and 1 for Machine Learning."
   ]
  },
  {
   "cell_type": "code",
   "execution_count": 9,
   "id": "8da23ff8",
   "metadata": {
    "execution": {
     "iopub.execute_input": "2025-02-16T10:35:32.250379Z",
     "iopub.status.busy": "2025-02-16T10:35:32.250067Z",
     "iopub.status.idle": "2025-02-16T10:35:32.261253Z",
     "shell.execute_reply": "2025-02-16T10:35:32.260171Z"
    },
    "papermill": {
     "duration": 0.018404,
     "end_time": "2025-02-16T10:35:32.262755",
     "exception": false,
     "start_time": "2025-02-16T10:35:32.244351",
     "status": "completed"
    },
    "tags": []
   },
   "outputs": [
    {
     "name": "stdout",
     "output_type": "stream",
     "text": [
      "class\n",
      "0    458\n",
      "1    241\n",
      "Name: count, dtype: int64\n"
     ]
    }
   ],
   "source": [
    "df[\"class\"] = df[\"class\"].map({2: 0, 4: 1})\n",
    "print(df[\"class\"].value_counts())"
   ]
  },
  {
   "cell_type": "markdown",
   "id": "a0218528",
   "metadata": {
    "papermill": {
     "duration": 0.004462,
     "end_time": "2025-02-16T10:35:32.272329",
     "exception": false,
     "start_time": "2025-02-16T10:35:32.267867",
     "status": "completed"
    },
    "tags": []
   },
   "source": [
    "# Exploratory Data Analysis (EDA)"
   ]
  },
  {
   "cell_type": "markdown",
   "id": "58e28bb6",
   "metadata": {
    "papermill": {
     "duration": 0.004392,
     "end_time": "2025-02-16T10:35:32.281348",
     "exception": false,
     "start_time": "2025-02-16T10:35:32.276956",
     "status": "completed"
    },
    "tags": []
   },
   "source": [
    "## Histograms"
   ]
  },
  {
   "cell_type": "code",
   "execution_count": 10,
   "id": "e17f2d9b",
   "metadata": {
    "execution": {
     "iopub.execute_input": "2025-02-16T10:35:32.292207Z",
     "iopub.status.busy": "2025-02-16T10:35:32.291820Z",
     "iopub.status.idle": "2025-02-16T10:35:34.220913Z",
     "shell.execute_reply": "2025-02-16T10:35:34.219865Z"
    },
    "papermill": {
     "duration": 1.937078,
     "end_time": "2025-02-16T10:35:34.223104",
     "exception": false,
     "start_time": "2025-02-16T10:35:32.286026",
     "status": "completed"
    },
    "tags": []
   },
   "outputs": [
    {
     "data": {
      "text/plain": [
       "<Figure size 1500x1000 with 0 Axes>"
      ]
     },
     "metadata": {},
     "output_type": "display_data"
    },
    {
     "data": {
      "image/png": "[encoded data removed]",
      "text/plain": [
       "<Figure size 1500x1000 with 12 Axes>"
      ]
     },
     "metadata": {},
     "output_type": "display_data"
    }
   ],
   "source": [
    "plt.figure(figsize=(15, 10))\n",
    "\n",
    "# Create histograms for each variable\n",
    "df.hist(figsize=(15, 10), bins=10, edgecolor='black', color='orange')\n",
    "plt.suptitle(\"Distribution des variables du dataset\", fontsize=16)\n",
    "plt.show()"
   ]
  },
  {
   "cell_type": "markdown",
   "id": "55590cd5",
   "metadata": {
    "papermill": {
     "duration": 0.00652,
     "end_time": "2025-02-16T10:35:34.236460",
     "exception": false,
     "start_time": "2025-02-16T10:35:34.229940",
     "status": "completed"
    },
    "tags": []
   },
   "source": [
    "Remarks :\n",
    "+ Some variables are highly asymmetrical (e.g. “Bare_Nuclei”, “Normal_Nucleoli”), which may require transformation.\n",
    "+ The “Class” variable (benign vs. malignant) is unbalanced, with more benign cases (class 0).\n",
    "+ Some features seem to separate the classes well, which is encouraging for machine learning."
   ]
  },
  {
   "cell_type": "markdown",
   "id": "f2f3d5e5",
   "metadata": {
    "papermill": {
     "duration": 0.006346,
     "end_time": "2025-02-16T10:35:34.249396",
     "exception": false,
     "start_time": "2025-02-16T10:35:34.243050",
     "status": "completed"
    },
    "tags": []
   },
   "source": [
    "## Correlation matrix\n",
    "\n",
    "Let's generate the correlation matrix to see which variables are the most influential. "
   ]
  },
  {
   "cell_type": "code",
   "execution_count": null,
   "id": "c3176324",
   "metadata": {
    "papermill": {
     "duration": 0.006498,
     "end_time": "2025-02-16T10:35:34.262488",
     "exception": false,
     "start_time": "2025-02-16T10:35:34.255990",
     "status": "completed"
    },
    "tags": []
   },
   "outputs": [],
   "source": []
  },
  {
   "cell_type": "markdown",
   "id": "29a343e4",
   "metadata": {
    "papermill": {
     "duration": 0.006412,
     "end_time": "2025-02-16T10:35:34.275572",
     "exception": false,
     "start_time": "2025-02-16T10:35:34.269160",
     "status": "completed"
    },
    "tags": []
   },
   "source": [
    "## Box plot"
   ]
  }
 ],
 "metadata": {
  "kaggle": {
   "accelerator": "none",
   "dataSources": [
    {
     "datasetId": 6676262,
     "sourceId": 10763014,
     "sourceType": "datasetVersion"
    }
   ],
   "dockerImageVersionId": 30886,
   "isGpuEnabled": false,
   "isInternetEnabled": true,
   "language": "python",
   "sourceType": "notebook"
  },
  "kernelspec": {
   "display_name": "Python 3",
   "language": "python",
   "name": "python3"
  },
  "language_info": {
   "codemirror_mode": {
    "name": "ipython",
    "version": 3
   },
   "file_extension": ".py",
   "mimetype": "text/x-python",
   "name": "python",
   "nbconvert_exporter": "python",
   "pygments_lexer": "ipython3",
   "version": "3.10.12"
  },
  "papermill": {
   "default_parameters": {},
   "duration": 6.521543,
   "end_time": "2025-02-16T10:35:34.901915",
   "environment_variables": {},
   "exception": null,
   "input_path": "__notebook__.ipynb",
   "output_path": "__notebook__.ipynb",
   "parameters": {},
   "start_time": "2025-02-16T10:35:28.380372",
   "version": "2.6.0"
  }
 },
 "nbformat": 4,
 "nbformat_minor": 5
}
